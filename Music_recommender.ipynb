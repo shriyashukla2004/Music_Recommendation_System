{
 "cells": [
  {
   "cell_type": "code",
   "execution_count": 50,
   "id": "934cb6a0-bce8-491b-961a-2bcff801c2ad",
   "metadata": {},
   "outputs": [],
   "source": [
    "import pandas as pd\n",
    "df= pd.read_csv(\"spotify_millsongdata.csv\")\n"
   ]
  },
  {
   "cell_type": "code",
   "execution_count": 51,
   "id": "59cdb3c1-5576-4eab-8814-39643d083089",
   "metadata": {},
   "outputs": [
    {
     "data": {
      "text/html": [
       "<div>\n",
       "<style scoped>\n",
       "    .dataframe tbody tr th:only-of-type {\n",
       "        vertical-align: middle;\n",
       "    }\n",
       "\n",
       "    .dataframe tbody tr th {\n",
       "        vertical-align: top;\n",
       "    }\n",
       "\n",
       "    .dataframe thead th {\n",
       "        text-align: right;\n",
       "    }\n",
       "</style>\n",
       "<table border=\"1\" class=\"dataframe\">\n",
       "  <thead>\n",
       "    <tr style=\"text-align: right;\">\n",
       "      <th></th>\n",
       "      <th>artist</th>\n",
       "      <th>song</th>\n",
       "      <th>link</th>\n",
       "      <th>text</th>\n",
       "    </tr>\n",
       "  </thead>\n",
       "  <tbody>\n",
       "    <tr>\n",
       "      <th>0</th>\n",
       "      <td>ABBA</td>\n",
       "      <td>Ahe's My Kind Of Girl</td>\n",
       "      <td>/a/abba/ahes+my+kind+of+girl_20598417.html</td>\n",
       "      <td>Look at her face, it's a wonderful face  \\r\\nA...</td>\n",
       "    </tr>\n",
       "    <tr>\n",
       "      <th>1</th>\n",
       "      <td>ABBA</td>\n",
       "      <td>Andante, Andante</td>\n",
       "      <td>/a/abba/andante+andante_20002708.html</td>\n",
       "      <td>Take it easy with me, please  \\r\\nTouch me gen...</td>\n",
       "    </tr>\n",
       "    <tr>\n",
       "      <th>2</th>\n",
       "      <td>ABBA</td>\n",
       "      <td>As Good As New</td>\n",
       "      <td>/a/abba/as+good+as+new_20003033.html</td>\n",
       "      <td>I'll never know why I had to go  \\r\\nWhy I had...</td>\n",
       "    </tr>\n",
       "    <tr>\n",
       "      <th>3</th>\n",
       "      <td>ABBA</td>\n",
       "      <td>Bang</td>\n",
       "      <td>/a/abba/bang_20598415.html</td>\n",
       "      <td>Making somebody happy is a question of give an...</td>\n",
       "    </tr>\n",
       "    <tr>\n",
       "      <th>4</th>\n",
       "      <td>ABBA</td>\n",
       "      <td>Bang-A-Boomerang</td>\n",
       "      <td>/a/abba/bang+a+boomerang_20002668.html</td>\n",
       "      <td>Making somebody happy is a question of give an...</td>\n",
       "    </tr>\n",
       "  </tbody>\n",
       "</table>\n",
       "</div>"
      ],
      "text/plain": [
       "  artist                   song                                        link  \\\n",
       "0   ABBA  Ahe's My Kind Of Girl  /a/abba/ahes+my+kind+of+girl_20598417.html   \n",
       "1   ABBA       Andante, Andante       /a/abba/andante+andante_20002708.html   \n",
       "2   ABBA         As Good As New        /a/abba/as+good+as+new_20003033.html   \n",
       "3   ABBA                   Bang                  /a/abba/bang_20598415.html   \n",
       "4   ABBA       Bang-A-Boomerang      /a/abba/bang+a+boomerang_20002668.html   \n",
       "\n",
       "                                                text  \n",
       "0  Look at her face, it's a wonderful face  \\r\\nA...  \n",
       "1  Take it easy with me, please  \\r\\nTouch me gen...  \n",
       "2  I'll never know why I had to go  \\r\\nWhy I had...  \n",
       "3  Making somebody happy is a question of give an...  \n",
       "4  Making somebody happy is a question of give an...  "
      ]
     },
     "execution_count": 51,
     "metadata": {},
     "output_type": "execute_result"
    }
   ],
   "source": [
    "df.head(5)"
   ]
  },
  {
   "cell_type": "code",
   "execution_count": 52,
   "id": "0f3b5d35-6e4c-431b-b50d-bda89ce979fd",
   "metadata": {},
   "outputs": [
    {
     "data": {
      "text/html": [
       "<div>\n",
       "<style scoped>\n",
       "    .dataframe tbody tr th:only-of-type {\n",
       "        vertical-align: middle;\n",
       "    }\n",
       "\n",
       "    .dataframe tbody tr th {\n",
       "        vertical-align: top;\n",
       "    }\n",
       "\n",
       "    .dataframe thead th {\n",
       "        text-align: right;\n",
       "    }\n",
       "</style>\n",
       "<table border=\"1\" class=\"dataframe\">\n",
       "  <thead>\n",
       "    <tr style=\"text-align: right;\">\n",
       "      <th></th>\n",
       "      <th>artist</th>\n",
       "      <th>song</th>\n",
       "      <th>link</th>\n",
       "      <th>text</th>\n",
       "    </tr>\n",
       "  </thead>\n",
       "  <tbody>\n",
       "    <tr>\n",
       "      <th>57645</th>\n",
       "      <td>Ziggy Marley</td>\n",
       "      <td>Good Old Days</td>\n",
       "      <td>/z/ziggy+marley/good+old+days_10198588.html</td>\n",
       "      <td>Irie days come on play  \\r\\nLet the angels fly...</td>\n",
       "    </tr>\n",
       "    <tr>\n",
       "      <th>57646</th>\n",
       "      <td>Ziggy Marley</td>\n",
       "      <td>Hand To Mouth</td>\n",
       "      <td>/z/ziggy+marley/hand+to+mouth_20531167.html</td>\n",
       "      <td>Power to the workers  \\r\\nMore power  \\r\\nPowe...</td>\n",
       "    </tr>\n",
       "    <tr>\n",
       "      <th>57647</th>\n",
       "      <td>Zwan</td>\n",
       "      <td>Come With Me</td>\n",
       "      <td>/z/zwan/come+with+me_20148981.html</td>\n",
       "      <td>all you need  \\r\\nis something i'll believe  \\...</td>\n",
       "    </tr>\n",
       "    <tr>\n",
       "      <th>57648</th>\n",
       "      <td>Zwan</td>\n",
       "      <td>Desire</td>\n",
       "      <td>/z/zwan/desire_20148986.html</td>\n",
       "      <td>northern star  \\r\\nam i frightened  \\r\\nwhere ...</td>\n",
       "    </tr>\n",
       "    <tr>\n",
       "      <th>57649</th>\n",
       "      <td>Zwan</td>\n",
       "      <td>Heartsong</td>\n",
       "      <td>/z/zwan/heartsong_20148991.html</td>\n",
       "      <td>come in  \\r\\nmake yourself at home  \\r\\ni'm a ...</td>\n",
       "    </tr>\n",
       "  </tbody>\n",
       "</table>\n",
       "</div>"
      ],
      "text/plain": [
       "             artist           song  \\\n",
       "57645  Ziggy Marley  Good Old Days   \n",
       "57646  Ziggy Marley  Hand To Mouth   \n",
       "57647          Zwan   Come With Me   \n",
       "57648          Zwan         Desire   \n",
       "57649          Zwan      Heartsong   \n",
       "\n",
       "                                              link  \\\n",
       "57645  /z/ziggy+marley/good+old+days_10198588.html   \n",
       "57646  /z/ziggy+marley/hand+to+mouth_20531167.html   \n",
       "57647           /z/zwan/come+with+me_20148981.html   \n",
       "57648                 /z/zwan/desire_20148986.html   \n",
       "57649              /z/zwan/heartsong_20148991.html   \n",
       "\n",
       "                                                    text  \n",
       "57645  Irie days come on play  \\r\\nLet the angels fly...  \n",
       "57646  Power to the workers  \\r\\nMore power  \\r\\nPowe...  \n",
       "57647  all you need  \\r\\nis something i'll believe  \\...  \n",
       "57648  northern star  \\r\\nam i frightened  \\r\\nwhere ...  \n",
       "57649  come in  \\r\\nmake yourself at home  \\r\\ni'm a ...  "
      ]
     },
     "execution_count": 52,
     "metadata": {},
     "output_type": "execute_result"
    }
   ],
   "source": [
    "df.tail(5)"
   ]
  },
  {
   "cell_type": "code",
   "execution_count": 53,
   "id": "20f79212-2d18-47dc-81ab-2f8a4b599d21",
   "metadata": {},
   "outputs": [
    {
     "data": {
      "text/plain": [
       "(57650, 4)"
      ]
     },
     "execution_count": 53,
     "metadata": {},
     "output_type": "execute_result"
    }
   ],
   "source": [
    "df.shape"
   ]
  },
  {
   "cell_type": "code",
   "execution_count": 54,
   "id": "dd786db9-f9ab-4809-8351-80c0cc974f71",
   "metadata": {},
   "outputs": [
    {
     "data": {
      "text/plain": [
       "artist    0\n",
       "song      0\n",
       "link      0\n",
       "text      0\n",
       "dtype: int64"
      ]
     },
     "execution_count": 54,
     "metadata": {},
     "output_type": "execute_result"
    }
   ],
   "source": [
    "df.isnull().sum()"
   ]
  },
  {
   "cell_type": "code",
   "execution_count": 55,
   "id": "a0afb5c3-87ce-442c-974f-f6cc46ad24da",
   "metadata": {},
   "outputs": [],
   "source": [
    "df= df.sample(2000).drop('link', axis=1).reset_index(drop=True)"
   ]
  },
  {
   "cell_type": "code",
   "execution_count": 56,
   "id": "5e18ae59-daf6-42b3-a428-c1af81527b56",
   "metadata": {},
   "outputs": [
    {
     "data": {
      "text/html": [
       "<div>\n",
       "<style scoped>\n",
       "    .dataframe tbody tr th:only-of-type {\n",
       "        vertical-align: middle;\n",
       "    }\n",
       "\n",
       "    .dataframe tbody tr th {\n",
       "        vertical-align: top;\n",
       "    }\n",
       "\n",
       "    .dataframe thead th {\n",
       "        text-align: right;\n",
       "    }\n",
       "</style>\n",
       "<table border=\"1\" class=\"dataframe\">\n",
       "  <thead>\n",
       "    <tr style=\"text-align: right;\">\n",
       "      <th></th>\n",
       "      <th>artist</th>\n",
       "      <th>song</th>\n",
       "      <th>text</th>\n",
       "    </tr>\n",
       "  </thead>\n",
       "  <tbody>\n",
       "    <tr>\n",
       "      <th>0</th>\n",
       "      <td>Pogues</td>\n",
       "      <td>South Australia</td>\n",
       "      <td>In South Australia I was born, heave away, hau...</td>\n",
       "    </tr>\n",
       "    <tr>\n",
       "      <th>1</th>\n",
       "      <td>Sam Smith</td>\n",
       "      <td>Together</td>\n",
       "      <td>Kiss my lips and taste the Sauvignon  \\r\\nI wr...</td>\n",
       "    </tr>\n",
       "    <tr>\n",
       "      <th>2</th>\n",
       "      <td>Ten Years After</td>\n",
       "      <td>You Can't Win Them All</td>\n",
       "      <td>You can't win them all  \\r\\n'Cause sometimes y...</td>\n",
       "    </tr>\n",
       "    <tr>\n",
       "      <th>3</th>\n",
       "      <td>Gordon Lightfoot</td>\n",
       "      <td>I'll Prove My Love</td>\n",
       "      <td>Any way the wind may blow  \\r\\nAny way the cre...</td>\n",
       "    </tr>\n",
       "    <tr>\n",
       "      <th>4</th>\n",
       "      <td>Doobie Brothers</td>\n",
       "      <td>Eyes Of Silver</td>\n",
       "      <td>Eyes of silver hungry and aware  \\r\\nEyes of s...</td>\n",
       "    </tr>\n",
       "  </tbody>\n",
       "</table>\n",
       "</div>"
      ],
      "text/plain": [
       "             artist                    song  \\\n",
       "0            Pogues         South Australia   \n",
       "1         Sam Smith                Together   \n",
       "2   Ten Years After  You Can't Win Them All   \n",
       "3  Gordon Lightfoot      I'll Prove My Love   \n",
       "4   Doobie Brothers          Eyes Of Silver   \n",
       "\n",
       "                                                text  \n",
       "0  In South Australia I was born, heave away, hau...  \n",
       "1  Kiss my lips and taste the Sauvignon  \\r\\nI wr...  \n",
       "2  You can't win them all  \\r\\n'Cause sometimes y...  \n",
       "3  Any way the wind may blow  \\r\\nAny way the cre...  \n",
       "4  Eyes of silver hungry and aware  \\r\\nEyes of s...  "
      ]
     },
     "execution_count": 56,
     "metadata": {},
     "output_type": "execute_result"
    }
   ],
   "source": [
    "df.head(5)"
   ]
  },
  {
   "cell_type": "code",
   "execution_count": 57,
   "id": "92c01512-25e2-428e-a617-0347328d857f",
   "metadata": {},
   "outputs": [
    {
     "data": {
      "text/plain": [
       "\"In South Australia I was born, heave away, haul away  \\r\\nIn South Australia, 'round Cape Horn, we're bound for South Australia  \\r\\n  \\r\\nHaul away your rolling king, heave away, haul away  \\r\\nHaul away, you'll hear me sing, we're bound for South Australia  \\r\\n  \\r\\nAs I walked out one morning fair, heave away, haul away  \\r\\n'Twas there I met Miss Nancy Blair, we're bound for South Australia  \\r\\n  \\r\\nThere's just one thing that's on my mind, heave away, haul away  \\r\\nThat's leaving Nancy Blair behind, we're bound for South Australia  \\r\\n  \\r\\nAnd as we wallop round Cape Horn, heave away, haul away  \\r\\nYou'll wish to God you've never been born, we're bound for South Australia  \\r\\n  \\r\\nIn South Australia I was born, heave away, haul away  \\r\\nIn South Australia, 'round Cape Horn, we're bound for South Australia\\r\\n\\r\\n\""
      ]
     },
     "execution_count": 57,
     "metadata": {},
     "output_type": "execute_result"
    }
   ],
   "source": [
    "df['text'][0]"
   ]
  },
  {
   "cell_type": "code",
   "execution_count": null,
   "id": "754da82c-2884-4da9-9750-b63bdce8a7fd",
   "metadata": {},
   "outputs": [],
   "source": []
  },
  {
   "cell_type": "code",
   "execution_count": 58,
   "id": "eec21c4c-f7e7-4e56-a88c-d1aa49b3b03a",
   "metadata": {},
   "outputs": [
    {
     "data": {
      "text/plain": [
       "(2000, 3)"
      ]
     },
     "execution_count": 58,
     "metadata": {},
     "output_type": "execute_result"
    }
   ],
   "source": [
    "df.shape"
   ]
  },
  {
   "cell_type": "raw",
   "id": "d2dea769-0025-40dc-8a48-e3adf0ea15fd",
   "metadata": {},
   "source": [
    "Text Preprocessing"
   ]
  },
  {
   "cell_type": "code",
   "execution_count": 59,
   "id": "288d009e-c7bc-47c3-bea3-f22324cca39b",
   "metadata": {},
   "outputs": [],
   "source": [
    "df['text']= df['text'].str.lower().replace(r'^\\w\\s', '').replace(r'\\n', ' ', regex=True)"
   ]
  },
  {
   "cell_type": "code",
   "execution_count": 60,
   "id": "c0add70f-f092-49ea-88f1-a58e35a79ee9",
   "metadata": {},
   "outputs": [
    {
     "data": {
      "text/html": [
       "<div>\n",
       "<style scoped>\n",
       "    .dataframe tbody tr th:only-of-type {\n",
       "        vertical-align: middle;\n",
       "    }\n",
       "\n",
       "    .dataframe tbody tr th {\n",
       "        vertical-align: top;\n",
       "    }\n",
       "\n",
       "    .dataframe thead th {\n",
       "        text-align: right;\n",
       "    }\n",
       "</style>\n",
       "<table border=\"1\" class=\"dataframe\">\n",
       "  <thead>\n",
       "    <tr style=\"text-align: right;\">\n",
       "      <th></th>\n",
       "      <th>artist</th>\n",
       "      <th>song</th>\n",
       "      <th>text</th>\n",
       "    </tr>\n",
       "  </thead>\n",
       "  <tbody>\n",
       "    <tr>\n",
       "      <th>1995</th>\n",
       "      <td>Smiths</td>\n",
       "      <td>Nowhere Fast</td>\n",
       "      <td>i'd like to drop my trousers to the world  \\r ...</td>\n",
       "    </tr>\n",
       "    <tr>\n",
       "      <th>1996</th>\n",
       "      <td>Randy Travis</td>\n",
       "      <td>A Gift Of Love</td>\n",
       "      <td>when you were born  \\r there in your mother's ...</td>\n",
       "    </tr>\n",
       "    <tr>\n",
       "      <th>1997</th>\n",
       "      <td>Bruce Springsteen</td>\n",
       "      <td>Lucky Town</td>\n",
       "      <td>house got too crowded clothes got too tight  \\...</td>\n",
       "    </tr>\n",
       "    <tr>\n",
       "      <th>1998</th>\n",
       "      <td>Tracy Chapman</td>\n",
       "      <td>In The Dark</td>\n",
       "      <td>make me fumble  \\r make me fall  \\r make my he...</td>\n",
       "    </tr>\n",
       "    <tr>\n",
       "      <th>1999</th>\n",
       "      <td>P!nk</td>\n",
       "      <td>Good Old Days</td>\n",
       "      <td>1, 2, 3, 4, 5 years go by,  \\r i don't really ...</td>\n",
       "    </tr>\n",
       "  </tbody>\n",
       "</table>\n",
       "</div>"
      ],
      "text/plain": [
       "                 artist            song  \\\n",
       "1995             Smiths    Nowhere Fast   \n",
       "1996       Randy Travis  A Gift Of Love   \n",
       "1997  Bruce Springsteen      Lucky Town   \n",
       "1998      Tracy Chapman     In The Dark   \n",
       "1999               P!nk   Good Old Days   \n",
       "\n",
       "                                                   text  \n",
       "1995  i'd like to drop my trousers to the world  \\r ...  \n",
       "1996  when you were born  \\r there in your mother's ...  \n",
       "1997  house got too crowded clothes got too tight  \\...  \n",
       "1998  make me fumble  \\r make me fall  \\r make my he...  \n",
       "1999  1, 2, 3, 4, 5 years go by,  \\r i don't really ...  "
      ]
     },
     "execution_count": 60,
     "metadata": {},
     "output_type": "execute_result"
    }
   ],
   "source": [
    "df.tail(5)"
   ]
  },
  {
   "cell_type": "code",
   "execution_count": 61,
   "id": "c7d80e65-12b6-4c05-99b1-b7c6e0fa46c4",
   "metadata": {},
   "outputs": [],
   "source": [
    "import nltk\n",
    "from nltk.stem.porter import PorterStemmer\n"
   ]
  },
  {
   "cell_type": "code",
   "execution_count": 62,
   "id": "faedb12a-59b6-4dfd-9acc-18c0a149742a",
   "metadata": {},
   "outputs": [],
   "source": [
    "stemmer= PorterStemmer()"
   ]
  },
  {
   "cell_type": "code",
   "execution_count": 63,
   "id": "178a1e1e-8ca8-4a73-9ec2-02d52c23453d",
   "metadata": {},
   "outputs": [],
   "source": [
    "def token (txt):\n",
    "    token= nltk.word_tokenize(txt)\n",
    "    a= [stemmer.stem(w) for w in token]\n",
    "    return \" \".join(a)"
   ]
  },
  {
   "cell_type": "code",
   "execution_count": 64,
   "id": "2cc8b99f-15b6-407c-815b-ab8004db7202",
   "metadata": {},
   "outputs": [
    {
     "name": "stderr",
     "output_type": "stream",
     "text": [
      "[nltk_data] Downloading package punkt to\n",
      "[nltk_data]     C:\\Users\\KIIT\\AppData\\Roaming\\nltk_data...\n",
      "[nltk_data]   Package punkt is already up-to-date!\n"
     ]
    },
    {
     "data": {
      "text/plain": [
       "True"
      ]
     },
     "execution_count": 64,
     "metadata": {},
     "output_type": "execute_result"
    }
   ],
   "source": [
    "nltk.download('punkt')"
   ]
  },
  {
   "cell_type": "code",
   "execution_count": 65,
   "id": "0fb16f17-a36e-47a2-a21d-d7034aba39d2",
   "metadata": {},
   "outputs": [
    {
     "data": {
      "text/plain": [
       "'you are beauti , beauti'"
      ]
     },
     "execution_count": 65,
     "metadata": {},
     "output_type": "execute_result"
    }
   ],
   "source": [
    "token(\"you are beautiful, beauty\")"
   ]
  },
  {
   "cell_type": "code",
   "execution_count": 66,
   "id": "72b7b9b1-7563-4945-9517-a769ef61da8d",
   "metadata": {},
   "outputs": [],
   "source": [
    "from sklearn.feature_extraction.text import TfidfVectorizer\n",
    "from sklearn.metrics.pairwise import cosine_similarity"
   ]
  },
  {
   "cell_type": "code",
   "execution_count": 67,
   "id": "0a8173a6-7527-4df3-8be9-96dd098cf641",
   "metadata": {},
   "outputs": [
    {
     "data": {
      "text/plain": [
       "0       in south australia i wa born , heav away , hau...\n",
       "1       kiss my lip and tast the sauvignon i wrap the ...\n",
       "2       you ca n't win them all 'caus sometim you fall...\n",
       "3       ani way the wind may blow ani way the creek ma...\n",
       "4       eye of silver hungri and awar eye of silver , ...\n",
       "                              ...                        \n",
       "1995    i 'd like to drop my trouser to the world i am...\n",
       "1996    when you were born there in your mother 's arm...\n",
       "1997    hous got too crowd cloth got too tight and i d...\n",
       "1998    make me fumbl make me fall make my heart stop ...\n",
       "1999    1 , 2 , 3 , 4 , 5 year go by , i do n't realli...\n",
       "Name: text, Length: 2000, dtype: object"
      ]
     },
     "execution_count": 67,
     "metadata": {},
     "output_type": "execute_result"
    }
   ],
   "source": [
    "df['text'].apply(lambda x: token(x))"
   ]
  },
  {
   "cell_type": "code",
   "execution_count": 68,
   "id": "6be2f824-7dd7-4fa1-8b88-f7f508e08310",
   "metadata": {},
   "outputs": [],
   "source": [
    "tfid= TfidfVectorizer(analyzer='word', stop_words='english')"
   ]
  },
  {
   "cell_type": "code",
   "execution_count": 69,
   "id": "a07768c6-579a-4787-8dfe-2821b8451998",
   "metadata": {},
   "outputs": [],
   "source": [
    "matrix= tfid.fit_transform(df['text'])"
   ]
  },
  {
   "cell_type": "code",
   "execution_count": 70,
   "id": "5b429275-2fbd-4dde-b218-05ebd3517b55",
   "metadata": {},
   "outputs": [],
   "source": [
    "similar= cosine_similarity(matrix)"
   ]
  },
  {
   "cell_type": "code",
   "execution_count": 71,
   "id": "9e56a82d-4b29-4ead-b1fa-2b4835f65a6b",
   "metadata": {},
   "outputs": [
    {
     "data": {
      "text/plain": [
       "array([1.00000000e+00, 6.15540495e-04, 9.77029413e-03, ...,\n",
       "       1.75009912e-03, 7.80175153e-04, 6.78174491e-03])"
      ]
     },
     "execution_count": 71,
     "metadata": {},
     "output_type": "execute_result"
    }
   ],
   "source": [
    "similar[0]"
   ]
  },
  {
   "cell_type": "code",
   "execution_count": 73,
   "id": "6e7d6ad6-12d8-49bc-a8ec-994e65dc1e9c",
   "metadata": {},
   "outputs": [
    {
     "data": {
      "text/plain": [
       "1995"
      ]
     },
     "execution_count": 73,
     "metadata": {},
     "output_type": "execute_result"
    }
   ],
   "source": [
    "df[df['song']== 'Nowhere Fast'].index[0]"
   ]
  },
  {
   "cell_type": "raw",
   "id": "c8daeb4b-2468-4864-8436-7741083f5a3b",
   "metadata": {},
   "source": [
    "Recommender fucntion"
   ]
  },
  {
   "cell_type": "code",
   "execution_count": 79,
   "id": "efec7e41-8e81-41c2-9ce0-135cb6cd5a08",
   "metadata": {},
   "outputs": [],
   "source": [
    "def recommender(song_name):\n",
    "    idx = df[df['song']== song_name].index[0]\n",
    "    distance= sorted(list(enumerate(similar[idx])), reverse=True, key= lambda x:x[1])\n",
    "    song= []\n",
    "    for s_id in distance[1:12]:\n",
    "        song.append(df.iloc[s_id[0]].song)                                                                                          \n",
    "    return song"
   ]
  },
  {
   "cell_type": "code",
   "execution_count": 80,
   "id": "7249620e-60d8-4cf5-a50d-18a1cc5d3e88",
   "metadata": {},
   "outputs": [
    {
     "data": {
      "text/plain": [
       "['Southern Ballad',\n",
       " 'So Sad',\n",
       " \"Can't Smile Without You\",\n",
       " 'All The Way From New York',\n",
       " 'Life After Death',\n",
       " \"Sad Lookin' Moon\",\n",
       " 'Rock Stop',\n",
       " 'Am I Ever Gonna Change',\n",
       " 'We Love You',\n",
       " 'One Good Woman',\n",
       " 'On This Day']"
      ]
     },
     "execution_count": 80,
     "metadata": {},
     "output_type": "execute_result"
    }
   ],
   "source": [
    "recommender(\"Nowhere Fast\")"
   ]
  },
  {
   "cell_type": "code",
   "execution_count": 81,
   "id": "a96c01e7-eb1b-4641-a4f5-d08ee1e5900d",
   "metadata": {},
   "outputs": [],
   "source": [
    "import pickle"
   ]
  },
  {
   "cell_type": "code",
   "execution_count": 82,
   "id": "c099e9c4-3776-42b5-b219-b10dccd195a3",
   "metadata": {},
   "outputs": [],
   "source": [
    "pickle.dump(similar, open(\"similarity\", \"wb\"))"
   ]
  },
  {
   "cell_type": "code",
   "execution_count": 83,
   "id": "4449f9c2-f03f-4f34-a6de-698b32432ff2",
   "metadata": {},
   "outputs": [],
   "source": [
    "pickle.dump(df, open(\"df\", \"wb\"))"
   ]
  },
  {
   "cell_type": "code",
   "execution_count": null,
   "id": "6d1276f2-8840-4c61-a707-3677090b45d4",
   "metadata": {},
   "outputs": [],
   "source": []
  }
 ],
 "metadata": {
  "kernelspec": {
   "display_name": "Python 3 (ipykernel)",
   "language": "python",
   "name": "python3"
  },
  "language_info": {
   "codemirror_mode": {
    "name": "ipython",
    "version": 3
   },
   "file_extension": ".py",
   "mimetype": "text/x-python",
   "name": "python",
   "nbconvert_exporter": "python",
   "pygments_lexer": "ipython3",
   "version": "3.11.7"
  }
 },
 "nbformat": 4,
 "nbformat_minor": 5
}
